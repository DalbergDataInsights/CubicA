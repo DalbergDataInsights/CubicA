{
 "cells": [
  {
   "cell_type": "code",
   "execution_count": 27,
   "metadata": {},
   "outputs": [],
   "source": [
    "import netCDF4 as nc\n",
    "import os\n",
    "from datetime import datetime, timedelta\n",
    "import numpy as np"
   ]
  },
  {
   "cell_type": "code",
   "execution_count": 43,
   "metadata": {},
   "outputs": [],
   "source": [
    "# helper functions to get indexes right\n",
    "def round_coordinates(value, resolution = 0.25):\n",
    "        return (value/resolution)*resolution\n",
    "def cath_index(l, in1, in2):\n",
    "    try:\n",
    "        return l[in1][in2]\n",
    "    except IndexError:\n",
    "        print(\"INDEX ERROR, RETURNING DEFAULT VALUE\")\n",
    "        return 0"
   ]
  },
  {
   "cell_type": "code",
   "execution_count": 14,
   "metadata": {},
   "outputs": [
    {
     "name": "stdout",
     "output_type": "stream",
     "text": [
      "C:\\Users\\Denys\\Desktop\\Projects\\Viamo-Recommendation\\weathermodule\n"
     ]
    }
   ],
   "source": [
    "print(os.getcwd())\n",
    "filename = os.path.join(os.getcwd(),\"data/ERA/an_2018-01-01.nc\")"
   ]
  },
  {
   "cell_type": "code",
   "execution_count": 15,
   "metadata": {},
   "outputs": [
    {
     "data": {
      "text/plain": [
       "True"
      ]
     },
     "execution_count": 15,
     "metadata": {},
     "output_type": "execute_result"
    }
   ],
   "source": [
    "os.path.exists(filename)"
   ]
  },
  {
   "cell_type": "code",
   "execution_count": 16,
   "metadata": {},
   "outputs": [],
   "source": [
    "ds = nc.Dataset(filename)"
   ]
  },
  {
   "cell_type": "code",
   "execution_count": 24,
   "metadata": {},
   "outputs": [
    {
     "data": {
      "text/plain": [
       "0"
      ]
     },
     "execution_count": 24,
     "metadata": {},
     "output_type": "execute_result"
    }
   ],
   "source": [
    "# get time index\n",
    "time = ds.variables['time']\n",
    "t = nc.date2index(dates=datetime(2018, 1,1), nctime=time)\n",
    "t"
   ]
  },
  {
   "cell_type": "code",
   "execution_count": 32,
   "metadata": {},
   "outputs": [
    {
     "data": {
      "text/plain": [
       "0"
      ]
     },
     "execution_count": 32,
     "metadata": {},
     "output_type": "execute_result"
    }
   ],
   "source": [
    "# get coordinates index\n",
    "lat = -2\n",
    "lon = 29\n",
    "la = cath_index(np.argwhere(ds['latitude'][:] == np.float(lat)), 0, 0)\n",
    "lo = cath_index(np.argwhere(ds['longitude'][:] == np.float(lon)), 0, 0)"
   ]
  },
  {
   "cell_type": "code",
   "execution_count": 20,
   "metadata": {},
   "outputs": [
    {
     "data": {
      "text/plain": [
       "<class 'netCDF4._netCDF4.Variable'>\n",
       "int16 t2m(time, latitude, longitude)\n",
       "    scale_factor: 0.00031870199818221354\n",
       "    add_offset: 298.13326350056343\n",
       "    _FillValue: -32767\n",
       "    missing_value: -32767\n",
       "    units: K\n",
       "    long_name: 2 metre temperature\n",
       "unlimited dimensions: time\n",
       "current shape = (4, 28, 25)\n",
       "filling off"
      ]
     },
     "execution_count": 20,
     "metadata": {},
     "output_type": "execute_result"
    }
   ],
   "source": [
    "# Check dimensions of the variable of interest\n",
    "ds['t2m'][]"
   ]
  },
  {
   "cell_type": "code",
   "execution_count": 38,
   "metadata": {},
   "outputs": [
    {
     "data": {
      "text/plain": [
       "288.59483139696795"
      ]
     },
     "execution_count": 38,
     "metadata": {},
     "output_type": "execute_result"
    }
   ],
   "source": [
    "# get variable of interest\n",
    "ds['t2m'][t, la, lo]"
   ]
  },
  {
   "cell_type": "code",
   "execution_count": 16,
   "metadata": {},
   "outputs": [],
   "source": [
    "import os\n",
    "import netCDF4 as nc\n"
   ]
  },
  {
   "cell_type": "code",
   "execution_count": 13,
   "metadata": {},
   "outputs": [],
   "source": [
    "f_filename = os.path.join(os.getcwd(), \"data/fc_2018-01-01.nc\")"
   ]
  },
  {
   "cell_type": "code",
   "execution_count": 14,
   "metadata": {},
   "outputs": [
    {
     "data": {
      "text/plain": [
       "'C:\\\\Users\\\\Denys\\\\Desktop\\\\Projects\\\\Viamo-Recommendation\\\\weathermodule\\\\data/fc_2018-01-01.nc'"
      ]
     },
     "execution_count": 14,
     "metadata": {},
     "output_type": "execute_result"
    }
   ],
   "source": [
    "f_filename"
   ]
  },
  {
   "cell_type": "code",
   "execution_count": 15,
   "metadata": {},
   "outputs": [
    {
     "data": {
      "text/plain": [
       "True"
      ]
     },
     "execution_count": 15,
     "metadata": {},
     "output_type": "execute_result"
    }
   ],
   "source": [
    "os.path.exists(f_filename)"
   ]
  },
  {
   "cell_type": "code",
   "execution_count": 17,
   "metadata": {},
   "outputs": [],
   "source": [
    "f_ds = nc.Dataset(f_filename)"
   ]
  },
  {
   "cell_type": "code",
   "execution_count": 24,
   "metadata": {},
   "outputs": [
    {
     "data": {
      "text/plain": [
       "OrderedDict([('longitude', <class 'netCDF4._netCDF4.Variable'>\n",
       "              float32 longitude(longitude)\n",
       "                  units: degrees_east\n",
       "                  long_name: longitude\n",
       "              unlimited dimensions: \n",
       "              current shape = (2880,)\n",
       "              filling off), ('latitude', <class 'netCDF4._netCDF4.Variable'>\n",
       "              float32 latitude(latitude)\n",
       "                  units: degrees_north\n",
       "                  long_name: latitude\n",
       "              unlimited dimensions: \n",
       "              current shape = (1441,)\n",
       "              filling off), ('time', <class 'netCDF4._netCDF4.Variable'>\n",
       "              int32 time(time)\n",
       "                  units: hours since 1900-01-01 00:00:00.0\n",
       "                  long_name: time\n",
       "                  calendar: gregorian\n",
       "              unlimited dimensions: time\n",
       "              current shape = (6,)\n",
       "              filling off), ('lsp', <class 'netCDF4._netCDF4.Variable'>\n",
       "              int16 lsp(time, latitude, longitude)\n",
       "                  scale_factor: 4.15493661858577e-06\n",
       "                  add_offset: 0.13614065324458133\n",
       "                  _FillValue: -32767\n",
       "                  missing_value: -32767\n",
       "                  units: m\n",
       "                  long_name: Large-scale precipitation\n",
       "                  standard_name: lwe_thickness_of_stratiform_precipitation_amount\n",
       "              unlimited dimensions: time\n",
       "              current shape = (6, 1441, 2880)\n",
       "              filling off), ('tcc', <class 'netCDF4._netCDF4.Variable'>\n",
       "              int16 tcc(time, latitude, longitude)\n",
       "                  scale_factor: 1.525948758640685e-05\n",
       "                  add_offset: 0.4999923702562068\n",
       "                  _FillValue: -32767\n",
       "                  missing_value: -32767\n",
       "                  units: (0 - 1)\n",
       "                  long_name: Total cloud cover\n",
       "                  standard_name: cloud_area_fraction\n",
       "              unlimited dimensions: time\n",
       "              current shape = (6, 1441, 2880)\n",
       "              filling off), ('t2m', <class 'netCDF4._netCDF4.Variable'>\n",
       "              int16 t2m(time, latitude, longitude)\n",
       "                  scale_factor: 0.0014239069892804483\n",
       "                  add_offset: 270.0910238863491\n",
       "                  _FillValue: -32767\n",
       "                  missing_value: -32767\n",
       "                  units: K\n",
       "                  long_name: 2 metre temperature\n",
       "              unlimited dimensions: time\n",
       "              current shape = (6, 1441, 2880)\n",
       "              filling off)])"
      ]
     },
     "execution_count": 24,
     "metadata": {},
     "output_type": "execute_result"
    }
   ],
   "source": [
    "f_ds[\"time\"][:][:]\n",
    "f_ds.variables"
   ]
  },
  {
   "cell_type": "code",
   "execution_count": 57,
   "metadata": {},
   "outputs": [
    {
     "data": {
      "text/plain": [
       "5"
      ]
     },
     "execution_count": 57,
     "metadata": {},
     "output_type": "execute_result"
    }
   ],
   "source": [
    "# prior dataset knowledge - we know that the dataset is forecast at 00 for 3,6,12,24,48 hours\n",
    "from datetime import datetime\n",
    "f_t = datetime(2018,1,3,0,0,0) # 0 hours forecast on the 1st\n",
    "f_time = f_ds.variables['time']\n",
    "f_t_index = nc.date2index(dates=f_t, nctime=f_time)\n",
    "f_t_index"
   ]
  },
  {
   "cell_type": "code",
   "execution_count": 58,
   "metadata": {},
   "outputs": [],
   "source": [
    "# location\n",
    "# get coordinates index\n",
    "import numpy as np\n",
    "lat = -2\n",
    "lon = 29\n",
    "la = cath_index(np.argwhere(f_ds['latitude'][:] == np.float(lat)), 0, 0)\n",
    "lo = cath_index(np.argwhere(f_ds['longitude'][:] == np.float(lon)), 0, 0)"
   ]
  },
  {
   "cell_type": "code",
   "execution_count": 59,
   "metadata": {},
   "outputs": [
    {
     "data": {
      "text/plain": [
       "290.1026127136965"
      ]
     },
     "execution_count": 59,
     "metadata": {},
     "output_type": "execute_result"
    }
   ],
   "source": [
    "# get actual info\n",
    "f_ds['t2m'][f_t_index, la, lo]"
   ]
  },
  {
   "cell_type": "code",
   "execution_count": null,
   "metadata": {},
   "outputs": [],
   "source": []
  }
 ],
 "metadata": {
  "kernelspec": {
   "display_name": "viamo",
   "language": "python",
   "name": "viamo"
  },
  "language_info": {
   "codemirror_mode": {
    "name": "ipython",
    "version": 3
   },
   "file_extension": ".py",
   "mimetype": "text/x-python",
   "name": "python",
   "nbconvert_exporter": "python",
   "pygments_lexer": "ipython3",
   "version": "3.7.1"
  }
 },
 "nbformat": 4,
 "nbformat_minor": 2
}
